{
 "cells": [
  {
   "cell_type": "markdown",
   "id": "ddb0b916-812e-4bb7-b17e-11d732735cf5",
   "metadata": {},
   "source": [
    "# Predicting the next Tennis Tournament Winner's country"
   ]
  },
  {
   "cell_type": "markdown",
   "id": "217fd406-136a-44b1-934b-6d6abcb9d049",
   "metadata": {},
   "source": [
    "For this project we are using he dataset containing the information about the tennis players from varoups countries to develop a predictive model for forecasting the next tournament winner's country. The data set includes multiple varibles like winner's height, age, rank, country, loser's country age, height and match statistics. "
   ]
  },
  {
   "cell_type": "markdown",
   "id": "07dd9aac-03fe-4743-bda8-b24b76b86ad9",
   "metadata": {},
   "source": [
    "The data captures diverse data from 2017 to 2019, so in this project by grouping winners based in their countries and historical tournament data, we aim to identify patterns and trends that can predict about the future tournament outcomes. "
   ]
  },
  {
   "cell_type": "markdown",
   "id": "72635709-fd0e-400b-9781-f34f93400e9f",
   "metadata": {},
   "source": [
    "First we will read the data using various libraries and functions."
   ]
  },
  {
   "cell_type": "code",
   "execution_count": 1,
   "id": "92dd6c0a-7391-49b3-908c-81a616502866",
   "metadata": {},
   "outputs": [
    {
     "name": "stderr",
     "output_type": "stream",
     "text": [
      "── \u001b[1mAttaching core tidyverse packages\u001b[22m ──────────────────────── tidyverse 2.0.0 ──\n",
      "\u001b[32m✔\u001b[39m \u001b[34mdplyr    \u001b[39m 1.1.3     \u001b[32m✔\u001b[39m \u001b[34mreadr    \u001b[39m 2.1.4\n",
      "\u001b[32m✔\u001b[39m \u001b[34mforcats  \u001b[39m 1.0.0     \u001b[32m✔\u001b[39m \u001b[34mstringr  \u001b[39m 1.5.0\n",
      "\u001b[32m✔\u001b[39m \u001b[34mggplot2  \u001b[39m 3.4.4     \u001b[32m✔\u001b[39m \u001b[34mtibble   \u001b[39m 3.2.1\n",
      "\u001b[32m✔\u001b[39m \u001b[34mlubridate\u001b[39m 1.9.3     \u001b[32m✔\u001b[39m \u001b[34mtidyr    \u001b[39m 1.3.0\n",
      "\u001b[32m✔\u001b[39m \u001b[34mpurrr    \u001b[39m 1.0.2     \n",
      "── \u001b[1mConflicts\u001b[22m ────────────────────────────────────────── tidyverse_conflicts() ──\n",
      "\u001b[31m✖\u001b[39m \u001b[34mdplyr\u001b[39m::\u001b[32mfilter()\u001b[39m masks \u001b[34mstats\u001b[39m::filter()\n",
      "\u001b[31m✖\u001b[39m \u001b[34mdplyr\u001b[39m::\u001b[32mlag()\u001b[39m    masks \u001b[34mstats\u001b[39m::lag()\n",
      "\u001b[36mℹ\u001b[39m Use the conflicted package (\u001b[3m\u001b[34m<http://conflicted.r-lib.org/>\u001b[39m\u001b[23m) to force all conflicts to become errors\n",
      "── \u001b[1mAttaching packages\u001b[22m ────────────────────────────────────── tidymodels 1.1.1 ──\n",
      "\n",
      "\u001b[32m✔\u001b[39m \u001b[34mbroom       \u001b[39m 1.0.5     \u001b[32m✔\u001b[39m \u001b[34mrsample     \u001b[39m 1.2.0\n",
      "\u001b[32m✔\u001b[39m \u001b[34mdials       \u001b[39m 1.2.0     \u001b[32m✔\u001b[39m \u001b[34mtune        \u001b[39m 1.1.2\n",
      "\u001b[32m✔\u001b[39m \u001b[34minfer       \u001b[39m 1.0.5     \u001b[32m✔\u001b[39m \u001b[34mworkflows   \u001b[39m 1.1.3\n",
      "\u001b[32m✔\u001b[39m \u001b[34mmodeldata   \u001b[39m 1.2.0     \u001b[32m✔\u001b[39m \u001b[34mworkflowsets\u001b[39m 1.0.1\n",
      "\u001b[32m✔\u001b[39m \u001b[34mparsnip     \u001b[39m 1.1.1     \u001b[32m✔\u001b[39m \u001b[34myardstick   \u001b[39m 1.2.0\n",
      "\u001b[32m✔\u001b[39m \u001b[34mrecipes     \u001b[39m 1.0.8     \n",
      "\n",
      "── \u001b[1mConflicts\u001b[22m ───────────────────────────────────────── tidymodels_conflicts() ──\n",
      "\u001b[31m✖\u001b[39m \u001b[34mscales\u001b[39m::\u001b[32mdiscard()\u001b[39m masks \u001b[34mpurrr\u001b[39m::discard()\n",
      "\u001b[31m✖\u001b[39m \u001b[34mdplyr\u001b[39m::\u001b[32mfilter()\u001b[39m   masks \u001b[34mstats\u001b[39m::filter()\n",
      "\u001b[31m✖\u001b[39m \u001b[34mrecipes\u001b[39m::\u001b[32mfixed()\u001b[39m  masks \u001b[34mstringr\u001b[39m::fixed()\n",
      "\u001b[31m✖\u001b[39m \u001b[34mdplyr\u001b[39m::\u001b[32mlag()\u001b[39m      masks \u001b[34mstats\u001b[39m::lag()\n",
      "\u001b[31m✖\u001b[39m \u001b[34myardstick\u001b[39m::\u001b[32mspec()\u001b[39m masks \u001b[34mreadr\u001b[39m::spec()\n",
      "\u001b[31m✖\u001b[39m \u001b[34mrecipes\u001b[39m::\u001b[32mstep()\u001b[39m   masks \u001b[34mstats\u001b[39m::step()\n",
      "\u001b[34m•\u001b[39m Dig deeper into tidy modeling with R at \u001b[32mhttps://www.tmwr.org\u001b[39m\n",
      "\n"
     ]
    }
   ],
   "source": [
    "library(tidyverse)\n",
    "library(repr)\n",
    "library(tidymodels)\n",
    "library(readr)\n",
    "library(dplyr)\n",
    "library(rsample)"
   ]
  },
  {
   "cell_type": "code",
   "execution_count": 2,
   "id": "29e80507-7c40-4b63-a3a9-c21b2ff5fa38",
   "metadata": {},
   "outputs": [
    {
     "name": "stderr",
     "output_type": "stream",
     "text": [
      "\u001b[1m\u001b[22mNew names:\n",
      "\u001b[36m•\u001b[39m `` -> `...1`\n",
      "\u001b[1mRows: \u001b[22m\u001b[34m6866\u001b[39m \u001b[1mColumns: \u001b[22m\u001b[34m50\u001b[39m\n",
      "\u001b[36m──\u001b[39m \u001b[1mColumn specification\u001b[22m \u001b[36m────────────────────────────────────────────────────────\u001b[39m\n",
      "\u001b[1mDelimiter:\u001b[22m \",\"\n",
      "\u001b[31mchr\u001b[39m (16): tourney_id, tourney_name, surface, tourney_level, winner_seed, win...\n",
      "\u001b[32mdbl\u001b[39m (34): ...1, draw_size, tourney_date, match_num, winner_id, winner_ht, wi...\n",
      "\n",
      "\u001b[36mℹ\u001b[39m Use `spec()` to retrieve the full column specification for this data.\n",
      "\u001b[36mℹ\u001b[39m Specify the column types or set `show_col_types = FALSE` to quiet this message.\n"
     ]
    },
    {
     "ename": "ERROR",
     "evalue": "Error in drop.na(mutate(tennis_players, winner_country = as.factor(winner_ioc)), : could not find function \"drop.na\"\n",
     "output_type": "error",
     "traceback": [
      "Error in drop.na(mutate(tennis_players, winner_country = as.factor(winner_ioc)), : could not find function \"drop.na\"\nTraceback:\n"
     ]
    }
   ],
   "source": [
    "# Read the dataset from the web into R\n",
    "tennis_players <- read_csv(\"data/tennis_players.csv\")\n",
    "# Preprocess data\n",
    "tournament_players <- tennis_players |>\n",
    "mutate(winner_country=as.factor(winner_ioc))|>\n",
    "drop.na(winner_ht)"
   ]
  },
  {
   "cell_type": "code",
   "execution_count": null,
   "id": "cf5ebee3-9311-447a-a6fd-a43e9432c9ac",
   "metadata": {},
   "outputs": [],
   "source": [
    "# Group winners by country and calculate statistics\n",
    "winner_stats <- tournament_players |>\n",
    "  group_by(winner_country) |>\n",
    "  summarize(avg_age = mean(winner_age, na.rm = TRUE), \n",
    "            avg_height = mean(winner_ht, na.rm = TRUE),\n",
    "            total_wins = n())|>\n",
    "filter(!is.na(avg_height))\n",
    "winner_stats"
   ]
  },
  {
   "cell_type": "code",
   "execution_count": null,
   "id": "5f8d98e6-92f1-4056-a527-34ca4f5c63b1",
   "metadata": {},
   "outputs": [],
   "source": [
    "# Split the dataset into training and testing sets\n",
    "library(rsample)\n",
    "set.seed(123) # for reproducibility\n",
    "data_split <- initial_split(winner_stats, prop = 0.8)\n",
    "data_train <- training(data_split)\n",
    "data_test <- testing(data_split)"
   ]
  },
  {
   "cell_type": "code",
   "execution_count": null,
   "id": "d7ea87fe-3261-4e0a-b01e-80d3633bad3c",
   "metadata": {},
   "outputs": [],
   "source": [
    "tennis_recipe <- recipe(winner_country ~ avg_age + avg_height+total_wins, data = data_train)|>\n",
    "step_center(all_predictors())|>\n",
    "step_scale(all_predictors())\n",
    "\n",
    "tennis_recipe"
   ]
  },
  {
   "cell_type": "code",
   "execution_count": null,
   "id": "c5e57798-a5cd-4aae-8c4b-dad2f40afb33",
   "metadata": {},
   "outputs": [],
   "source": [
    "# Specify the k-NN model\n",
    "knn_model <- nearest_neighbor(weight_func = \"rectangular\", neighbors = tune())|> \n",
    "  set_engine(\"kknn\") |>\n",
    "  set_mode(\"classification\")\n",
    "knn_model"
   ]
  },
  {
   "cell_type": "code",
   "execution_count": null,
   "id": "2de5f7c6-5ddc-41a4-be25-c281d5e96a6b",
   "metadata": {},
   "outputs": [],
   "source": [
    "# Create the workflow\n",
    "workflow <- workflow() |>\n",
    "  add_recipe(tennis_recipe) |>\n",
    "  add_model(knn_model)\n",
    "workflow"
   ]
  },
  {
   "cell_type": "code",
   "execution_count": null,
   "id": "826c0dfe-c5ed-4b38-9fac-14c79be6639b",
   "metadata": {},
   "outputs": [],
   "source": [
    "# Train the model\n",
    "model <- fit(workflow, data_train)\n",
    "model"
   ]
  },
  {
   "cell_type": "code",
   "execution_count": null,
   "id": "def88dc5-710a-4e88-899e-40e06907b609",
   "metadata": {},
   "outputs": [],
   "source": [
    "# Make predictions on the test set\n",
    "predictions <- predict(model, data_test)|>\n",
    "bind_cols(data_test)\n",
    "predictions\n",
    "# Evaluate model performance\n",
    "players_test_metrics <- predictions |>\n",
    "  metrics(truth = winner_country, estimate = .pred_class)\n",
    "players_test_precision <- predictions |>\n",
    "  precision(truth = winner_country, estimate = .pred_class)\n",
    "players_test_recall <- predictions |>\n",
    "  recall(truth = winner_country, estimate = .pred_class)\n",
    "players_test_conf_matrix <- predictions |>\n",
    "  conf_mat(truth = winner_country, estimate = .pred_class)\n",
    "\n",
    "# Display evaluation metrics and confusion matrix\n",
    "players_test_metrics\n",
    "players_test_precision\n",
    "players_test_recall\n",
    "players_test_conf_matrix"
   ]
  },
  {
   "cell_type": "code",
   "execution_count": null,
   "id": "d6c8c65d-21aa-4bcd-bb0e-a82bf0d5fa28",
   "metadata": {},
   "outputs": [],
   "source": [
    "set.seed(2020)\n",
    "\n",
    "\n",
    "players_test_metrics <- predictions |>\n",
    "  metrics(truth = winner_country, estimate = .pred_class)\n",
    "#filter(.metric==\"accuracy\")\n",
    "players_test_metrics\n",
    "# Precision\n",
    "players_test_precision <- predictions |>\n",
    "  precision(truth = winner_country, estimate = .pred_class, event_level=\"first\")\n",
    "players_test_precision\n",
    "# Recall\n",
    "players_test_recall <- predictions |>\n",
    "  recall(truth = winner_country, estimate = .pred_class, event_level=\"first\")\n",
    "players_test_recall\n",
    "\n",
    "# Confusion Matrix\n",
    "players_test_conf_matrix <- predictions |>\n",
    "  conf_mat(truth = winner_country, estimate=.pred_class)\n",
    "players_test_conf_matrix"
   ]
  },
  {
   "cell_type": "code",
   "execution_count": null,
   "id": "dd26093f-198c-464f-ab20-9430610dcddd",
   "metadata": {},
   "outputs": [],
   "source": []
  },
  {
   "cell_type": "code",
   "execution_count": null,
   "id": "d862948c-2aec-4217-8958-bd04804ad380",
   "metadata": {},
   "outputs": [],
   "source": []
  },
  {
   "cell_type": "code",
   "execution_count": null,
   "id": "1464ea04-ef69-4df7-8666-29eb578e649d",
   "metadata": {},
   "outputs": [],
   "source": []
  },
  {
   "cell_type": "code",
   "execution_count": null,
   "id": "fc1b70b2-d241-4cc8-92de-fded245351c8",
   "metadata": {},
   "outputs": [],
   "source": []
  },
  {
   "cell_type": "code",
   "execution_count": null,
   "id": "17d32d7a-7617-415a-817e-d5044fc0be02",
   "metadata": {},
   "outputs": [],
   "source": []
  },
  {
   "cell_type": "code",
   "execution_count": null,
   "id": "73cbb0f9-3939-47cd-aa4b-36013f6c7270",
   "metadata": {},
   "outputs": [],
   "source": []
  },
  {
   "cell_type": "code",
   "execution_count": null,
   "id": "db8ebe4c-c1bf-4bd5-8184-afbad0c71d8c",
   "metadata": {},
   "outputs": [],
   "source": []
  },
  {
   "cell_type": "code",
   "execution_count": null,
   "id": "be3dd057-818d-4e85-8b8a-948c11a09894",
   "metadata": {},
   "outputs": [],
   "source": []
  },
  {
   "cell_type": "code",
   "execution_count": null,
   "id": "38c7f689-c374-4bcb-8348-750776e41e57",
   "metadata": {},
   "outputs": [],
   "source": []
  },
  {
   "cell_type": "code",
   "execution_count": null,
   "id": "710cfe56-287d-44a8-b2f3-af1b5100d198",
   "metadata": {},
   "outputs": [],
   "source": []
  },
  {
   "cell_type": "code",
   "execution_count": null,
   "id": "973ab034-2f2e-44ad-a99a-9f0c4b55a25d",
   "metadata": {},
   "outputs": [],
   "source": []
  },
  {
   "cell_type": "code",
   "execution_count": null,
   "id": "90daf101-71b5-4396-bd9e-b9d9fe3fcb20",
   "metadata": {},
   "outputs": [],
   "source": []
  },
  {
   "cell_type": "code",
   "execution_count": null,
   "id": "ab812caf-3bef-4eb9-b1f9-89dfeca77c09",
   "metadata": {},
   "outputs": [],
   "source": []
  },
  {
   "cell_type": "code",
   "execution_count": null,
   "id": "f1528f48-8ece-48ff-bccd-1f8a3b63b642",
   "metadata": {},
   "outputs": [],
   "source": []
  },
  {
   "cell_type": "code",
   "execution_count": null,
   "id": "8b875ca5-b015-4bac-87fe-8f87278f6496",
   "metadata": {},
   "outputs": [],
   "source": []
  },
  {
   "cell_type": "code",
   "execution_count": null,
   "id": "03966488-8089-45be-9fc7-d8675931a838",
   "metadata": {},
   "outputs": [],
   "source": []
  },
  {
   "cell_type": "code",
   "execution_count": null,
   "id": "00ee4d45-7567-4d73-8466-4a5c554c54ff",
   "metadata": {},
   "outputs": [],
   "source": []
  },
  {
   "cell_type": "code",
   "execution_count": null,
   "id": "f32a858d-4a8b-42b2-9b04-3e422c50675d",
   "metadata": {},
   "outputs": [],
   "source": []
  },
  {
   "cell_type": "code",
   "execution_count": null,
   "id": "a5d707c0-9e55-49e3-8783-eca2a894645c",
   "metadata": {},
   "outputs": [],
   "source": []
  },
  {
   "cell_type": "code",
   "execution_count": null,
   "id": "89b075b4-74f0-46de-ac9a-b2da5d5fae8a",
   "metadata": {},
   "outputs": [],
   "source": []
  },
  {
   "cell_type": "code",
   "execution_count": null,
   "id": "91c5bbf1-3bd4-442d-82bd-2dcb45969285",
   "metadata": {},
   "outputs": [],
   "source": []
  },
  {
   "cell_type": "code",
   "execution_count": null,
   "id": "75abafc0-87df-4b82-a17a-8a78d7461316",
   "metadata": {},
   "outputs": [],
   "source": []
  },
  {
   "cell_type": "code",
   "execution_count": null,
   "id": "5bc9d1ec-5115-4f57-a260-e694686c8ee9",
   "metadata": {},
   "outputs": [],
   "source": []
  },
  {
   "cell_type": "code",
   "execution_count": null,
   "id": "2726f122-895b-4a52-a734-30f7cd425554",
   "metadata": {},
   "outputs": [],
   "source": []
  },
  {
   "cell_type": "code",
   "execution_count": null,
   "id": "0a6e9296-6570-4c37-8597-a7c5fa01e9d4",
   "metadata": {},
   "outputs": [],
   "source": []
  }
 ],
 "metadata": {
  "kernelspec": {
   "display_name": "R",
   "language": "R",
   "name": "ir"
  },
  "language_info": {
   "codemirror_mode": "r",
   "file_extension": ".r",
   "mimetype": "text/x-r-source",
   "name": "R",
   "pygments_lexer": "r",
   "version": "4.3.1"
  }
 },
 "nbformat": 4,
 "nbformat_minor": 5
}
