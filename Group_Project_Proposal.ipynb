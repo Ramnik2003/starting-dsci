{
 "cells": [
  {
   "cell_type": "markdown",
   "id": "4957cbf6-e5f2-4a0b-98f3-39118ea0c760",
   "metadata": {},
   "source": [
    "# Exploring the trends in the ATP Tennis Players Performance: 2017-19"
   ]
  },
  {
   "cell_type": "markdown",
   "id": "e04029d7-916d-4c75-81b9-7424d90044af",
   "metadata": {},
   "source": [
    "# The Top 500 Players Game Results from 2017-2019 in the Association of Tennis Professionals (ATP) Tour."
   ]
  },
  {
   "cell_type": "markdown",
   "id": "643447e6-552e-47fd-b032-6ca7a2b500d3",
   "metadata": {},
   "source": [
    "The data frame that our group chose provides details about the top 500 matches from 2017- 2019 in the Association of Tennis Professionals (ATP) Tour.  The ATP Tour is organized by the Association of Tennis Professionals, which is the only men's professional tennis tour in the world.  The Excel sheet includes various information, ranging from the winners’ and losers’ names, heights, countries, scores, etc. "
   ]
  },
  {
   "cell_type": "markdown",
   "id": "fb161915-d0a3-4631-ac13-dffa7e68e67c",
   "metadata": {},
   "source": [
    "The data frame provides us with lots of variables such as winner player's id, height, age, country and a lot of other information. From this we will try to answer the following question:"
   ]
  },
  {
   "cell_type": "markdown",
   "id": "6ad19fc1-7f36-457c-8aeb-90a14980b643",
   "metadata": {},
   "source": [
    "Can we classify the country of origin (IOC Code) of the winning tennis players based on various predictors such as player ID, surface type, player name, height and age?\n",
    "\n",
    "So we want to build a classification model that predits the country from which a winning tennis player originates using the features such as player ID, surface type of the  match, player name, player height and player age. The goal from the activity is to understand if there is a pattern in these fetures that can help us classify the country of origin of the winning player?"
   ]
  },
  {
   "cell_type": "code",
   "execution_count": 31,
   "id": "3bf10fbb-2b7e-4e09-9352-32379ef3eb52",
   "metadata": {},
   "outputs": [],
   "source": [
    "library(tidyverse)\n"
   ]
  },
  {
   "cell_type": "code",
   "execution_count": 29,
   "id": "a85bbc58-e575-4f2e-9b82-0ab2d31e379c",
   "metadata": {},
   "outputs": [
    {
     "name": "stderr",
     "output_type": "stream",
     "text": [
      "\u001b[1m\u001b[22mNew names:\n",
      "\u001b[36m•\u001b[39m `` -> `...1`\n",
      "\u001b[1mRows: \u001b[22m\u001b[34m6866\u001b[39m \u001b[1mColumns: \u001b[22m\u001b[34m50\u001b[39m\n",
      "\u001b[36m──\u001b[39m \u001b[1mColumn specification\u001b[22m \u001b[36m────────────────────────────────────────────────────────\u001b[39m\n",
      "\u001b[1mDelimiter:\u001b[22m \",\"\n",
      "\u001b[31mchr\u001b[39m (16): tourney_id, tourney_name, surface, tourney_level, winner_seed, win...\n",
      "\u001b[32mdbl\u001b[39m (34): ...1, draw_size, tourney_date, match_num, winner_id, winner_ht, wi...\n",
      "\n",
      "\u001b[36mℹ\u001b[39m Use `spec()` to retrieve the full column specification for this data.\n",
      "\u001b[36mℹ\u001b[39m Specify the column types or set `show_col_types = FALSE` to quiet this message.\n"
     ]
    },
    {
     "ename": "ERROR",
     "evalue": "Error in eval(expr, envir, enclos): object 'tennis_players' not found\n",
     "output_type": "error",
     "traceback": [
      "Error in eval(expr, envir, enclos): object 'tennis_players' not found\nTraceback:\n",
      "1. tennis_players %>% select(-1, -2)",
      "2. select(., -1, -2)"
     ]
    }
   ],
   "source": [
    "library(dplyr)\n",
    "tennnis_players <- read_csv(\"data/tennis_players.csv\")\n",
    "\n",
    "tennis_players <- tennis_players|>\n",
    "                  select(tourney_name, surface,winner_id,winner_name,winner_ioc,winner_age, )\n",
    "tennis_players"
   ]
  },
  {
   "cell_type": "code",
   "execution_count": null,
   "id": "54db5f8c-e9c8-4ad8-b884-35895e4f431f",
   "metadata": {},
   "outputs": [],
   "source": []
  },
  {
   "cell_type": "code",
   "execution_count": null,
   "id": "0bfb5080-807c-4195-baca-9eb59a5a5b65",
   "metadata": {},
   "outputs": [],
   "source": []
  },
  {
   "cell_type": "code",
   "execution_count": null,
   "id": "0ea8319e-0d92-4e01-b14f-b48d0b3bb202",
   "metadata": {},
   "outputs": [],
   "source": []
  },
  {
   "cell_type": "code",
   "execution_count": null,
   "id": "0bd5dc55-5163-4d67-89e1-8c5f76da6986",
   "metadata": {},
   "outputs": [],
   "source": []
  }
 ],
 "metadata": {
  "kernelspec": {
   "display_name": "R",
   "language": "R",
   "name": "ir"
  },
  "language_info": {
   "codemirror_mode": "r",
   "file_extension": ".r",
   "mimetype": "text/x-r-source",
   "name": "R",
   "pygments_lexer": "r",
   "version": "4.3.1"
  }
 },
 "nbformat": 4,
 "nbformat_minor": 5
}
