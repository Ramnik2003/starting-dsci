{
 "cells": [
  {
   "cell_type": "markdown",
   "id": "4957cbf6-e5f2-4a0b-98f3-39118ea0c760",
   "metadata": {},
   "source": [
    "# Exploring the trends in the ATP Tennis Players Performance: 2017-19"
   ]
  },
  {
   "cell_type": "markdown",
   "id": "e04029d7-916d-4c75-81b9-7424d90044af",
   "metadata": {},
   "source": [
    "# The Top 500 Players Game Results from 2017-2019 in the Association of Tennis Professionals (ATP) Tour."
   ]
  },
  {
   "cell_type": "markdown",
   "id": "643447e6-552e-47fd-b032-6ca7a2b500d3",
   "metadata": {},
   "source": [
    "The data frame that our group chose provides details about the top 500 matches from 2017- 2019 in the Association of Tennis Professionals (ATP) Tour.  The ATP Tour is organized by the Association of Tennis Professionals, which is the only men's professional tennis tour in the world.  The Excel sheet includes various information, ranging from the winners’ and losers’ names, heights, countries, scores, etc. "
   ]
  },
  {
   "cell_type": "markdown",
   "id": "fb161915-d0a3-4631-ac13-dffa7e68e67c",
   "metadata": {},
   "source": [
    "The data frame provides us with lots of variables such as winner player's id, height, age, country and a lot of other information. From this we will try to answer the following question:"
   ]
  },
  {
   "cell_type": "markdown",
   "id": "6ad19fc1-7f36-457c-8aeb-90a14980b643",
   "metadata": {},
   "source": [
    "Can we classify the country of origin (IOC Code) of the winning tennis players based on various predictors such as player ID, surface type, player name, height and age?\n",
    "\n",
    "So we want to build a classification model that predits the country from which a winning tennis player originates using the features such as player ID, surface type of the  match, player name, player height and player age. The goal from the activity is to understand if there is a pattern in these fetures that can help us classify the country of origin of the winning player?"
   ]
  },
  {
   "cell_type": "code",
   "execution_count": 31,
   "id": "3bf10fbb-2b7e-4e09-9352-32379ef3eb52",
   "metadata": {},
   "outputs": [],
   "source": [
    "library(tidyverse)\n"
   ]
  },
  {
   "cell_type": "code",
   "execution_count": 61,
   "id": "54db5f8c-e9c8-4ad8-b884-35895e4f431f",
   "metadata": {},
   "outputs": [
    {
     "name": "stderr",
     "output_type": "stream",
     "text": [
      "\u001b[1m\u001b[22mNew names:\n",
      "\u001b[36m•\u001b[39m `` -> `...1`\n",
      "\u001b[1mRows: \u001b[22m\u001b[34m6866\u001b[39m \u001b[1mColumns: \u001b[22m\u001b[34m50\u001b[39m\n",
      "\u001b[36m──\u001b[39m \u001b[1mColumn specification\u001b[22m \u001b[36m────────────────────────────────────────────────────────\u001b[39m\n",
      "\u001b[1mDelimiter:\u001b[22m \",\"\n",
      "\u001b[31mchr\u001b[39m (16): tourney_id, tourney_name, surface, tourney_level, winner_seed, win...\n",
      "\u001b[32mdbl\u001b[39m (34): ...1, draw_size, tourney_date, match_num, winner_id, winner_ht, wi...\n",
      "\n",
      "\u001b[36mℹ\u001b[39m Use `spec()` to retrieve the full column specification for this data.\n",
      "\u001b[36mℹ\u001b[39m Specify the column types or set `show_col_types = FALSE` to quiet this message.\n"
     ]
    },
    {
     "data": {
      "text/html": [
       "<table class=\"dataframe\">\n",
       "<caption>A tibble: 6866 × 6</caption>\n",
       "<thead>\n",
       "\t<tr><th scope=col>surface</th><th scope=col>winner_name</th><th scope=col>winner_hand</th><th scope=col>winner_ht</th><th scope=col>winner_ioc</th><th scope=col>winner_age</th></tr>\n",
       "\t<tr><th scope=col>&lt;chr&gt;</th><th scope=col>&lt;chr&gt;</th><th scope=col>&lt;chr&gt;</th><th scope=col>&lt;dbl&gt;</th><th scope=col>&lt;chr&gt;</th><th scope=col>&lt;dbl&gt;</th></tr>\n",
       "</thead>\n",
       "<tbody>\n",
       "\t<tr><td>Hard</td><td>Kei Nishikori  </td><td>R</td><td>178</td><td>JPN</td><td>29.00479</td></tr>\n",
       "\t<tr><td>Hard</td><td>Daniil Medvedev</td><td>R</td><td> NA</td><td>RUS</td><td>22.88569</td></tr>\n",
       "\t<tr><td>Hard</td><td>Kei Nishikori  </td><td>R</td><td>178</td><td>JPN</td><td>29.00479</td></tr>\n",
       "\t<tr><td>⋮</td><td>⋮</td><td>⋮</td><td>⋮</td><td>⋮</td><td>⋮</td></tr>\n",
       "\t<tr><td>Hard</td><td>Jo Wilfried Tsonga</td><td>R</td><td>188</td><td>FRA</td><td>32.59411</td></tr>\n",
       "\t<tr><td>Hard</td><td>David Goffin      </td><td>R</td><td>163</td><td>BEL</td><td>26.95414</td></tr>\n",
       "\t<tr><td>Hard</td><td>Lucas Pouille     </td><td>R</td><td>185</td><td>FRA</td><td>23.73990</td></tr>\n",
       "</tbody>\n",
       "</table>\n"
      ],
      "text/latex": [
       "A tibble: 6866 × 6\n",
       "\\begin{tabular}{llllll}\n",
       " surface & winner\\_name & winner\\_hand & winner\\_ht & winner\\_ioc & winner\\_age\\\\\n",
       " <chr> & <chr> & <chr> & <dbl> & <chr> & <dbl>\\\\\n",
       "\\hline\n",
       "\t Hard & Kei Nishikori   & R & 178 & JPN & 29.00479\\\\\n",
       "\t Hard & Daniil Medvedev & R &  NA & RUS & 22.88569\\\\\n",
       "\t Hard & Kei Nishikori   & R & 178 & JPN & 29.00479\\\\\n",
       "\t ⋮ & ⋮ & ⋮ & ⋮ & ⋮ & ⋮\\\\\n",
       "\t Hard & Jo Wilfried Tsonga & R & 188 & FRA & 32.59411\\\\\n",
       "\t Hard & David Goffin       & R & 163 & BEL & 26.95414\\\\\n",
       "\t Hard & Lucas Pouille      & R & 185 & FRA & 23.73990\\\\\n",
       "\\end{tabular}\n"
      ],
      "text/markdown": [
       "\n",
       "A tibble: 6866 × 6\n",
       "\n",
       "| surface &lt;chr&gt; | winner_name &lt;chr&gt; | winner_hand &lt;chr&gt; | winner_ht &lt;dbl&gt; | winner_ioc &lt;chr&gt; | winner_age &lt;dbl&gt; |\n",
       "|---|---|---|---|---|---|\n",
       "| Hard | Kei Nishikori   | R | 178 | JPN | 29.00479 |\n",
       "| Hard | Daniil Medvedev | R |  NA | RUS | 22.88569 |\n",
       "| Hard | Kei Nishikori   | R | 178 | JPN | 29.00479 |\n",
       "| ⋮ | ⋮ | ⋮ | ⋮ | ⋮ | ⋮ |\n",
       "| Hard | Jo Wilfried Tsonga | R | 188 | FRA | 32.59411 |\n",
       "| Hard | David Goffin       | R | 163 | BEL | 26.95414 |\n",
       "| Hard | Lucas Pouille      | R | 185 | FRA | 23.73990 |\n",
       "\n"
      ],
      "text/plain": [
       "     surface winner_name        winner_hand winner_ht winner_ioc winner_age\n",
       "1    Hard    Kei Nishikori      R           178       JPN        29.00479  \n",
       "2    Hard    Daniil Medvedev    R            NA       RUS        22.88569  \n",
       "3    Hard    Kei Nishikori      R           178       JPN        29.00479  \n",
       "⋮    ⋮       ⋮                  ⋮           ⋮         ⋮          ⋮         \n",
       "6864 Hard    Jo Wilfried Tsonga R           188       FRA        32.59411  \n",
       "6865 Hard    David Goffin       R           163       BEL        26.95414  \n",
       "6866 Hard    Lucas Pouille      R           185       FRA        23.73990  "
      ]
     },
     "metadata": {},
     "output_type": "display_data"
    }
   ],
   "source": [
    "library(readr)\n",
    "library(dplyr)\n",
    "\n",
    "# Read the dataset from the web into R\n",
    "tennis_players <- read_csv(\"data/tennis_players.csv\")\n",
    "\n",
    "# Select specific columns and remove unnamed column if present\n",
    "tennis_players <- tennis_players |>\n",
    "                 select(surface:winner_age)|>\n",
    "select(-draw_size:-winner_entry)\n",
    "                   \n",
    "\n",
    "# Print the resulting data frame\n",
    "tennis_players"
   ]
  },
  {
   "cell_type": "markdown",
   "id": "48211121-0a79-4fc6-9995-44604e8a6e19",
   "metadata": {},
   "source": [
    "From the above code we read a CSV file containing tennis player data inot R using 'read_csv()' function from the 'readr' package. SO when the data frame got printed we are able to see 6866 rows and 50 columns. From that we removed the unwanted varibles related to loser's data, and then we will try to predict the country of the winner, based on differnt predictors lised above. "
   ]
  },
  {
   "cell_type": "markdown",
   "id": "d1e93bea-0939-461d-8532-b4a87321c61d",
   "metadata": {},
   "source": [
    "### As now we have the data we will try to tidy it.\n"
   ]
  },
  {
   "cell_type": "markdown",
   "id": "fb49e4cc-c28f-4bf0-8cc3-0735886a55bb",
   "metadata": {},
   "source": [
    "We can tidy any data using following ways:\n",
    "- Checking the missing values using 'is.na()' function.\n",
    "- Checking if the dataset is in wide or long format and reshape it if needed using functions like 'pivot_longer()' or 'pivot_wider()'.\n",
    "- We should also check if all the varibles are in correct type, like 'dbl(double)', 'fct(factor)' or 'chr(character)'"
   ]
  },
  {
   "cell_type": "code",
   "execution_count": 64,
   "id": "0bd5dc55-5163-4d67-89e1-8c5f76da6986",
   "metadata": {},
   "outputs": [
    {
     "data": {
      "text/html": [
       "<table class=\"dataframe\">\n",
       "<caption>A tibble: 6866 × 6</caption>\n",
       "<thead>\n",
       "\t<tr><th scope=col>surface</th><th scope=col>winner_name</th><th scope=col>winner_hand</th><th scope=col>winner_height</th><th scope=col>winner_country</th><th scope=col>winner_age</th></tr>\n",
       "\t<tr><th scope=col>&lt;chr&gt;</th><th scope=col>&lt;chr&gt;</th><th scope=col>&lt;chr&gt;</th><th scope=col>&lt;dbl&gt;</th><th scope=col>&lt;chr&gt;</th><th scope=col>&lt;dbl&gt;</th></tr>\n",
       "</thead>\n",
       "<tbody>\n",
       "\t<tr><td>Hard</td><td>Kei Nishikori  </td><td>R</td><td>178</td><td>JPN</td><td>29.00479</td></tr>\n",
       "\t<tr><td>Hard</td><td>Daniil Medvedev</td><td>R</td><td> NA</td><td>RUS</td><td>22.88569</td></tr>\n",
       "\t<tr><td>Hard</td><td>Kei Nishikori  </td><td>R</td><td>178</td><td>JPN</td><td>29.00479</td></tr>\n",
       "\t<tr><td>⋮</td><td>⋮</td><td>⋮</td><td>⋮</td><td>⋮</td><td>⋮</td></tr>\n",
       "\t<tr><td>Hard</td><td>Jo Wilfried Tsonga</td><td>R</td><td>188</td><td>FRA</td><td>32.59411</td></tr>\n",
       "\t<tr><td>Hard</td><td>David Goffin      </td><td>R</td><td>163</td><td>BEL</td><td>26.95414</td></tr>\n",
       "\t<tr><td>Hard</td><td>Lucas Pouille     </td><td>R</td><td>185</td><td>FRA</td><td>23.73990</td></tr>\n",
       "</tbody>\n",
       "</table>\n"
      ],
      "text/latex": [
       "A tibble: 6866 × 6\n",
       "\\begin{tabular}{llllll}\n",
       " surface & winner\\_name & winner\\_hand & winner\\_height & winner\\_country & winner\\_age\\\\\n",
       " <chr> & <chr> & <chr> & <dbl> & <chr> & <dbl>\\\\\n",
       "\\hline\n",
       "\t Hard & Kei Nishikori   & R & 178 & JPN & 29.00479\\\\\n",
       "\t Hard & Daniil Medvedev & R &  NA & RUS & 22.88569\\\\\n",
       "\t Hard & Kei Nishikori   & R & 178 & JPN & 29.00479\\\\\n",
       "\t ⋮ & ⋮ & ⋮ & ⋮ & ⋮ & ⋮\\\\\n",
       "\t Hard & Jo Wilfried Tsonga & R & 188 & FRA & 32.59411\\\\\n",
       "\t Hard & David Goffin       & R & 163 & BEL & 26.95414\\\\\n",
       "\t Hard & Lucas Pouille      & R & 185 & FRA & 23.73990\\\\\n",
       "\\end{tabular}\n"
      ],
      "text/markdown": [
       "\n",
       "A tibble: 6866 × 6\n",
       "\n",
       "| surface &lt;chr&gt; | winner_name &lt;chr&gt; | winner_hand &lt;chr&gt; | winner_height &lt;dbl&gt; | winner_country &lt;chr&gt; | winner_age &lt;dbl&gt; |\n",
       "|---|---|---|---|---|---|\n",
       "| Hard | Kei Nishikori   | R | 178 | JPN | 29.00479 |\n",
       "| Hard | Daniil Medvedev | R |  NA | RUS | 22.88569 |\n",
       "| Hard | Kei Nishikori   | R | 178 | JPN | 29.00479 |\n",
       "| ⋮ | ⋮ | ⋮ | ⋮ | ⋮ | ⋮ |\n",
       "| Hard | Jo Wilfried Tsonga | R | 188 | FRA | 32.59411 |\n",
       "| Hard | David Goffin       | R | 163 | BEL | 26.95414 |\n",
       "| Hard | Lucas Pouille      | R | 185 | FRA | 23.73990 |\n",
       "\n"
      ],
      "text/plain": [
       "     surface winner_name        winner_hand winner_height winner_country\n",
       "1    Hard    Kei Nishikori      R           178           JPN           \n",
       "2    Hard    Daniil Medvedev    R            NA           RUS           \n",
       "3    Hard    Kei Nishikori      R           178           JPN           \n",
       "⋮    ⋮       ⋮                  ⋮           ⋮             ⋮             \n",
       "6864 Hard    Jo Wilfried Tsonga R           188           FRA           \n",
       "6865 Hard    David Goffin       R           163           BEL           \n",
       "6866 Hard    Lucas Pouille      R           185           FRA           \n",
       "     winner_age\n",
       "1    29.00479  \n",
       "2    22.88569  \n",
       "3    29.00479  \n",
       "⋮    ⋮         \n",
       "6864 32.59411  \n",
       "6865 26.95414  \n",
       "6866 23.73990  "
      ]
     },
     "metadata": {},
     "output_type": "display_data"
    }
   ],
   "source": [
    "# we will start with renaming the column names:\n",
    "tennis_players_short_data <- tennis_players|>\n",
    "rename(winner_name = winner_name,\n",
    "        winner_hand= winner_hand,\n",
    "        winner_height = winner_ht,\n",
    "        winner_country = winner_ioc,\n",
    "        winner_age= winner_age)\n",
    "tennis_players_short_data"
   ]
  },
  {
   "cell_type": "code",
   "execution_count": null,
   "id": "4dd3bd77-1517-4e1e-a348-e9353ca6d59a",
   "metadata": {},
   "outputs": [],
   "source": []
  },
  {
   "cell_type": "code",
   "execution_count": null,
   "id": "3499bc03-95a5-4154-8c7a-badc556554b5",
   "metadata": {},
   "outputs": [],
   "source": []
  },
  {
   "cell_type": "code",
   "execution_count": null,
   "id": "0022adbf-3bdf-4c56-abe5-a60e03ed4895",
   "metadata": {},
   "outputs": [],
   "source": []
  }
 ],
 "metadata": {
  "kernelspec": {
   "display_name": "R",
   "language": "R",
   "name": "ir"
  },
  "language_info": {
   "codemirror_mode": "r",
   "file_extension": ".r",
   "mimetype": "text/x-r-source",
   "name": "R",
   "pygments_lexer": "r",
   "version": "4.3.1"
  }
 },
 "nbformat": 4,
 "nbformat_minor": 5
}
